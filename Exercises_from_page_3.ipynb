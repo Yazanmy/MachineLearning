{
  "nbformat": 4,
  "nbformat_minor": 0,
  "metadata": {
    "colab": {
      "name": "Exercises from page 3.ipynb",
      "version": "0.3.2",
      "provenance": [],
      "collapsed_sections": [],
      "include_colab_link": true
    },
    "kernelspec": {
      "name": "python3",
      "display_name": "Python 3"
    }
  },
  "cells": [
    {
      "cell_type": "markdown",
      "metadata": {
        "id": "view-in-github",
        "colab_type": "text"
      },
      "source": [
        "<a href=\"https://colab.research.google.com/github/Yazanmy/MachineLearning/blob/master/Exercises_from_page_3.ipynb\" target=\"_parent\"><img src=\"https://colab.research.google.com/assets/colab-badge.svg\" alt=\"Open In Colab\"/></a>"
      ]
    },
    {
      "cell_type": "markdown",
      "metadata": {
        "id": "6-caHwZK_Cmi",
        "colab_type": "text"
      },
      "source": [
        "\n",
        "\n",
        "```\n",
        "Ex1: Create a program that asks the user to enter their\n",
        "name and their age. Print out a message addressed to them\n",
        "that tells them the year that they will turn 100 years old.\n",
        "```\n",
        "\n"
      ]
    },
    {
      "cell_type": "code",
      "metadata": {
        "id": "X6JRSLJPxk0j",
        "colab_type": "code",
        "colab": {}
      },
      "source": [
        "name = input(\"Your Name : \")\n",
        "age = int(input(\"Your age : \"))\n",
        "print (\"Hello \",name, \"in\"  , 100- age +2019 )\n"
      ],
      "execution_count": 0,
      "outputs": []
    },
    {
      "cell_type": "markdown",
      "metadata": {
        "id": "WDEQv6uv_Lut",
        "colab_type": "text"
      },
      "source": [
        "```\n",
        "Ex3: Take a list, say for example this one: a = [1, 1, 2, 3, 5, 8,\n",
        "13, 21, 34, 55, 89] and write a program that prints out all\n",
        "the elements of the list that are less than 5.\n",
        "```\n"
      ]
    },
    {
      "cell_type": "code",
      "metadata": {
        "id": "XqXhajPXyijQ",
        "colab_type": "code",
        "colab": {}
      },
      "source": [
        "a = [1, 1, 2, 3, 5, 8,13, 21, 34, 55, 89]\n",
        "for x in a :\n",
        "  if x<5 :\n",
        "    print (x)"
      ],
      "execution_count": 0,
      "outputs": []
    },
    {
      "cell_type": "markdown",
      "metadata": {
        "id": "atlb9zSe_c2Q",
        "colab_type": "text"
      },
      "source": [
        "```\n",
        "Ex5: Take two lists, say for example these two: a = [1, 1, 2, 3,\n",
        "5, 8, 13, 21, 34, 55, 89] and b = [1, 2, 3, 4, 5, 6, 7, 8, 9, 10,\n",
        "11, 12, 13] and write a program that returns a list that\n",
        "contains only the elements that are common between the\n",
        "lists (without duplicates). Make sure your program works on\n",
        "two lists of different sizes.\n",
        "```\n"
      ]
    },
    {
      "cell_type": "code",
      "metadata": {
        "id": "I-R6Zsh53ZMJ",
        "colab_type": "code",
        "colab": {}
      },
      "source": [
        "a = [1, 1, 2, 3,5, 8, 13, 21, 34, 55, 89] \n",
        "b = [1, 2, 3, 4, 5, 6, 7, 8, 9, 10,11, 12, 13]\n",
        "print (set(a) &  set(b))\n",
        "\n",
        "both=[]\n",
        "\n",
        "if len(a)<len(b) :\n",
        "  for i in b :\n",
        "    if i in a and i not in both :\n",
        "      both.append(i)\n",
        "      \n",
        "if len(b)<len(a):\n",
        "  for i in a :\n",
        "    if i in b and i not in both :\n",
        "      both.append(i)\n",
        "\n",
        "print(both)      "
      ],
      "execution_count": 0,
      "outputs": []
    },
    {
      "cell_type": "markdown",
      "metadata": {
        "id": "qFEE7wBR_jsP",
        "colab_type": "text"
      },
      "source": [
        "```\n",
        "Ex28: Implement a function that takes as input three\n",
        "variables, and returns the largest of the three. Do this\n",
        "without using the Python max() function!\n",
        "\n",
        "```\n"
      ]
    },
    {
      "cell_type": "code",
      "metadata": {
        "id": "Y0dlpjHc63t0",
        "colab_type": "code",
        "colab": {}
      },
      "source": [
        "def fun(a,b,c):\n",
        "  if a>b and a>c:\n",
        "    return(a)\n",
        "   \n",
        "  if b>a and b>c:\n",
        "    return(b)\n",
        "  \n",
        "  if c>a and c>b:\n",
        "    return c\n",
        "  \n",
        "print(fun(5,9,7))  "
      ],
      "execution_count": 0,
      "outputs": []
    },
    {
      "cell_type": "code",
      "metadata": {
        "id": "xCwwGXQu-3ps",
        "colab_type": "code",
        "colab": {}
      },
      "source": [
        ""
      ],
      "execution_count": 0,
      "outputs": []
    }
  ]
}